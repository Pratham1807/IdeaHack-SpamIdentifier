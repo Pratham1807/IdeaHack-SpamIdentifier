{
 "cells": [
  {
   "cell_type": "code",
   "execution_count": 1,
   "metadata": {},
   "outputs": [],
   "source": [
    "import pandas as pd\n",
    "import numpy as np"
   ]
  },
  {
   "cell_type": "code",
   "execution_count": 2,
   "metadata": {},
   "outputs": [
    {
     "name": "stdout",
     "output_type": "stream",
     "text": [
      "   bait                                              title\n",
      "0     0  Go until jurong point, crazy.. Available only ...\n",
      "1     0                      Ok lar... Joking wif u oni...\n",
      "2     1  Free entry in 2 a wkly comp to win FA Cup fina...\n",
      "3     0  U dun say so early hor... U c already then say...\n",
      "4     0  Nah I don't think he goes to usf, he lives aro...\n",
      "      bait                                              title\n",
      "5567     1  This is the 2nd time we have tried 2 contact u...\n",
      "5568     0              Will Ì_ b going to esplanade fr home?\n",
      "5569     0  Pity, * was in mood for that. So...any other s...\n",
      "5570     0  The guy did some bitching but I acted like i'd...\n",
      "5571     0                         Rofl. Its true to its name\n"
     ]
    }
   ],
   "source": [
    "db = pd.read_csv('spam-sms.csv', encoding = 'latin-1')\n",
    "db.drop(['Unnamed: 2', 'Unnamed: 3', 'Unnamed: 4'], axis = 1, inplace = True)\n",
    "db['bait'] = db['v1'].map({'ham': 0, 'spam': 1})\n",
    "db['title'] = db['v2']\n",
    "db.drop(['v1','v2'],axis=1,inplace=True)\n",
    "print(db.head())\n",
    "print(db.tail())"
   ]
  },
  {
   "cell_type": "code",
   "execution_count": 4,
   "metadata": {},
   "outputs": [],
   "source": [
    "from sklearn.model_selection import train_test_split\n",
    "X = db.title\n",
    "y = db.bait\n",
    "X_train, X_test, y_train, y_test = train_test_split(X, y, test_size=0.25)"
   ]
  },
  {
   "cell_type": "code",
   "execution_count": 5,
   "metadata": {},
   "outputs": [],
   "source": [
    "from sklearn.pipeline import Pipeline\n",
    "from sklearn.feature_extraction.text import CountVectorizer, TfidfTransformer\n",
    "from sklearn.naive_bayes import MultinomialNB\n",
    "\n",
    "pipeline1 = Pipeline([('vect', CountVectorizer()),\n",
    "            ('tfidf', TfidfTransformer()),\n",
    "            ('mnb', MultinomialNB())])"
   ]
  },
  {
   "cell_type": "code",
   "execution_count": 7,
   "metadata": {},
   "outputs": [
    {
     "name": "stdout",
     "output_type": "stream",
     "text": [
      "0.9777458722182341\n"
     ]
    }
   ],
   "source": [
    "pipeline1.fit(X, y)\n",
    "predicted = pipeline1.predict(X_test)\n",
    "print (np.mean(predicted == y_test))"
   ]
  },
  {
   "cell_type": "code",
   "execution_count": 12,
   "metadata": {},
   "outputs": [
    {
     "data": {
      "text/plain": [
       "1"
      ]
     },
     "execution_count": 12,
     "metadata": {},
     "output_type": "execute_result"
    }
   ],
   "source": [
    "pipeline1.predict([\"Free entry in 2 a wkly comp to win FA Cup final\"])[0]"
   ]
  },
  {
   "cell_type": "code",
   "execution_count": 14,
   "metadata": {},
   "outputs": [
    {
     "data": {
      "text/plain": [
       "array([0.09000495, 0.90999505])"
      ]
     },
     "execution_count": 14,
     "metadata": {},
     "output_type": "execute_result"
    }
   ],
   "source": [
    "pipeline1.predict_proba([\"Free entry in 2 a wkly comp to win FA Cup final\"])[0]"
   ]
  },
  {
   "cell_type": "code",
   "execution_count": 15,
   "metadata": {},
   "outputs": [],
   "source": [
    "from sklearn.externals import joblib\n",
    "import pickle"
   ]
  },
  {
   "cell_type": "code",
   "execution_count": 16,
   "metadata": {},
   "outputs": [
    {
     "data": {
      "text/plain": [
       "['spammailmodelsklearn.pkl']"
      ]
     },
     "execution_count": 16,
     "metadata": {},
     "output_type": "execute_result"
    }
   ],
   "source": [
    "joblib.dump(pipeline1, 'spammailmodelsklearn.pkl')"
   ]
  },
  {
   "cell_type": "code",
   "execution_count": 18,
   "metadata": {},
   "outputs": [],
   "source": [
    "m1=joblib.load('spammailmodelsklearn.pkl')"
   ]
  },
  {
   "cell_type": "code",
   "execution_count": 19,
   "metadata": {},
   "outputs": [
    {
     "data": {
      "text/plain": [
       "array([0.96492392, 0.03507608])"
      ]
     },
     "execution_count": 19,
     "metadata": {},
     "output_type": "execute_result"
    }
   ],
   "source": [
    "pred_score = m1.predict_proba(['You won’t believe how these 9 shocking clickbaits work!'])[0]\n",
    "pred_score"
   ]
  },
  {
   "cell_type": "code",
   "execution_count": 20,
   "metadata": {},
   "outputs": [],
   "source": [
    "prob = {'Clickbate': pred_score[1], 'Not-Clickbate': pred_score[0]}"
   ]
  },
  {
   "cell_type": "code",
   "execution_count": 21,
   "metadata": {},
   "outputs": [],
   "source": [
    "def score(input_string):\n",
    "   \n",
    "    pred_score = m1.predict_proba([input_string])[0]\n",
    "    if ((pred_score[1]*100 > 40) & ((pred_score[1]*100 < 60))):\n",
    "        flag = 'Maybe Baity'\n",
    "        color = 'warn-color'\n",
    "    elif (pred_score[1]*100 > 60):\n",
    "        flag = 'Looks Safe'\n",
    "        color = 'safe-color'\n",
    "    else:\n",
    "        flag = 'Sounds Baity'\n",
    "        color = 'danger-color'\n",
    "\n",
    "    prob = {'clickbate-prob': pred_score[1], 'notClickbate-prob': pred_score[0], 'flag': flag, 'color':color}\n",
    "    return prob"
   ]
  },
  {
   "cell_type": "code",
   "execution_count": 24,
   "metadata": {},
   "outputs": [],
   "source": [
    "a = score(\"Free entry in 2 a wkly comp to win FA Cup final\")"
   ]
  },
  {
   "cell_type": "code",
   "execution_count": 25,
   "metadata": {},
   "outputs": [
    {
     "data": {
      "text/plain": [
       "{'clickbate-prob': 0.9099950522492393,\n",
       " 'notClickbate-prob': 0.09000494775076032,\n",
       " 'flag': 'Looks Safe',\n",
       " 'color': 'safe-color'}"
      ]
     },
     "execution_count": 25,
     "metadata": {},
     "output_type": "execute_result"
    }
   ],
   "source": [
    "a"
   ]
  },
  {
   "cell_type": "code",
   "execution_count": null,
   "metadata": {},
   "outputs": [],
   "source": []
  }
 ],
 "metadata": {
  "kernelspec": {
   "display_name": "Python 3",
   "language": "python",
   "name": "python3"
  },
  "language_info": {
   "codemirror_mode": {
    "name": "ipython",
    "version": 3
   },
   "file_extension": ".py",
   "mimetype": "text/x-python",
   "name": "python",
   "nbconvert_exporter": "python",
   "pygments_lexer": "ipython3",
   "version": "3.6.6"
  }
 },
 "nbformat": 4,
 "nbformat_minor": 2
}
